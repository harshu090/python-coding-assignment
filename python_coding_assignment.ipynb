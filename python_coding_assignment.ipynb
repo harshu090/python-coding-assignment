{
 "cells": [
  {
   "cell_type": "markdown",
   "id": "b2423b9b-cfc5-4f85-8f60-4a4ba7567fad",
   "metadata": {},
   "source": [
    "# Python Fundamentals Programming Assignment\n",
    "\n",
    "This project consists of 15 coding exercises designed to test and strengthen your understanding of Python programming. The exercises are divided into three sections:\n",
    "1. Python Operators and Control Structures\n",
    "2. Lists and Dictionaries\n",
    "3. Advanced Topics\n",
    "\n",
    "Each question will be answered with an explanation and the corresponding Python code.\n"
   ]
  },
  {
   "cell_type": "markdown",
   "id": "766a1057-b042-40d4-ae61-4879cbc80b63",
   "metadata": {},
   "source": [
    "## Section 1: Python Operators and Control Structures\n",
    "\n"
   ]
  },
  {
   "cell_type": "markdown",
   "id": "2f905636-04a1-4354-8f72-b9d64a95ae8c",
   "metadata": {},
   "source": [
    "### Question 1: Write a Python program to calculate the sum of all numbers in a list using a for loop.\n"
   ]
  },
  {
   "cell_type": "code",
   "execution_count": 5,
   "id": "eeae9877-cab5-4891-8c2b-5b743b3d64c7",
   "metadata": {},
   "outputs": [
    {
     "name": "stdout",
     "output_type": "stream",
     "text": [
      "15\n"
     ]
    }
   ],
   "source": [
    "numbers = [1, 2, 3, 4, 5]\n",
    "total_sum = 0\n",
    "for num in numbers:\n",
    "    total_sum += num\n",
    "print(total_sum)  \n"
   ]
  },
  {
   "cell_type": "markdown",
   "id": "fb2ee5c7-7799-4197-aaa3-473c3cb7066c",
   "metadata": {},
   "source": [
    "### Question 2: What is the output of the following code?\n"
   ]
  },
  {
   "cell_type": "code",
   "execution_count": 33,
   "id": "4d7c155b-9fc2-4bd8-b45c-550bf3fcb49b",
   "metadata": {},
   "outputs": [
    {
     "name": "stdout",
     "output_type": "stream",
     "text": [
      "25\n"
     ]
    }
   ],
   "source": [
    "x = 5\n",
    "y = 2\n",
    "print(x ** y) \n"
   ]
  },
  {
   "cell_type": "markdown",
   "id": "97182dea-6c59-4699-9ecb-dd9a49ca7af5",
   "metadata": {},
   "source": [
    "### Question 3: Write a Python program to check if a number is a palindrome using a while loop.\n"
   ]
  },
  {
   "cell_type": "code",
   "execution_count": 7,
   "id": "b892cce8-c493-4a85-850f-1107419fb9e9",
   "metadata": {},
   "outputs": [
    {
     "name": "stdout",
     "output_type": "stream",
     "text": [
      "True\n"
     ]
    }
   ],
   "source": [
    "num = 12321\n",
    "original_num = num\n",
    "reversed_num = 0\n",
    "while num > 0:\n",
    "    digit = num % 10\n",
    "    reversed_num = reversed_num * 10 + digit\n",
    "    num = num // 10\n",
    "\n",
    "if original_num == reversed_num:\n",
    "    print(True) \n",
    "else:\n",
    "    print(False)\n"
   ]
  },
  {
   "cell_type": "markdown",
   "id": "6e94a5b6-284a-441a-8204-c4bcee70b5e6",
   "metadata": {},
   "source": [
    "### Question 4: What is the output of the following code?\n"
   ]
  },
  {
   "cell_type": "code",
   "execution_count": 32,
   "id": "9cd8a2b8-42e9-4fcd-b576-eb38445c1f5b",
   "metadata": {},
   "outputs": [
    {
     "name": "stdout",
     "output_type": "stream",
     "text": [
      "cherry\n"
     ]
    }
   ],
   "source": [
    "fruits = ['apple', 'banana', 'cherry']\n",
    "print(fruits[-1]) \n"
   ]
  },
  {
   "cell_type": "markdown",
   "id": "a69d427a-e79f-4e4c-b84f-6d450e291cdb",
   "metadata": {},
   "source": [
    "### Question 5: Write a Python program to calculate the average of all numbers in a list using a for loop.\n"
   ]
  },
  {
   "cell_type": "code",
   "execution_count": 31,
   "id": "e472caa5-0f7c-48ca-bf80-620f75a0bf6a",
   "metadata": {},
   "outputs": [
    {
     "name": "stdout",
     "output_type": "stream",
     "text": [
      "3.0\n"
     ]
    }
   ],
   "source": [
    "numbers = [1, 2, 3, 4, 5]\n",
    "total_sum = 0\n",
    "for num in numbers:\n",
    "    total_sum += num\n",
    "average = total_sum / len(numbers)\n",
    "print(average) \n"
   ]
  },
  {
   "cell_type": "markdown",
   "id": "e3babbb5-9898-40af-bc4e-d80f4c91bf3c",
   "metadata": {},
   "source": [
    "## Section 2: Lists and Dictionaries\n"
   ]
  },
  {
   "cell_type": "markdown",
   "id": "d1a28c82-2c3d-40c2-9a30-7dcaeaf3774c",
   "metadata": {},
   "source": [
    "### Question 6: Write a Python program to create a dictionary with student names as keys and their grades as values.\n"
   ]
  },
  {
   "cell_type": "code",
   "execution_count": 30,
   "id": "3cd56efe-3afb-4f25-b7b8-8bd073b7305f",
   "metadata": {},
   "outputs": [
    {
     "name": "stdout",
     "output_type": "stream",
     "text": [
      "{'John': 90, 'Alice': 85, 'Bob': 95}\n"
     ]
    }
   ],
   "source": [
    "students = ['John', 'Alice', 'Bob']\n",
    "grades = [90, 85, 95]\n",
    "student_grades = dict(zip(students, grades))\n",
    "print(student_grades)  \n"
   ]
  },
  {
   "cell_type": "markdown",
   "id": "5e209a98-5c9c-46c5-9d38-851d1e2e9263",
   "metadata": {},
   "source": [
    "### Question 7: What is the output of the following code?\n"
   ]
  },
  {
   "cell_type": "markdown",
   "id": "1d40321c-f25c-4aaf-8496-3f683532d9c9",
   "metadata": {},
   "source": [
    "numbers = [1, 2, 3, 4, 5]\n",
    "print(numbers[1:3])  # Output: [2, 3]\n"
   ]
  },
  {
   "cell_type": "markdown",
   "id": "dafdca69-08cc-4d9c-9f01-8f3255f37199",
   "metadata": {},
   "source": [
    "### Question 8: Write a Python program to sort a list of numbers in ascending order using the sorted() function.\n"
   ]
  },
  {
   "cell_type": "code",
   "execution_count": 29,
   "id": "def9f0f5-ec8a-4e63-a7c1-ec70ec4ef597",
   "metadata": {},
   "outputs": [
    {
     "name": "stdout",
     "output_type": "stream",
     "text": [
      "[2, 4, 5, 6, 9]\n"
     ]
    }
   ],
   "source": [
    "numbers = [4, 2, 9, 6, 5]\n",
    "sorted_numbers = sorted(numbers)\n",
    "print(sorted_numbers)  \n"
   ]
  },
  {
   "cell_type": "markdown",
   "id": "869804e1-7501-4810-9106-7c4a0c65de5b",
   "metadata": {},
   "source": [
    "### Question 9: What is the output of the following code?\n"
   ]
  },
  {
   "cell_type": "markdown",
   "id": "9c1118cf-66ab-4ff2-ae0a-4158e15385fe",
   "metadata": {},
   "source": [
    "fruits = {'apple': 5, 'banana': 10, 'cherry': 15}\n",
    "print(fruits.get('banana'))  # Output: 10\n"
   ]
  },
  {
   "cell_type": "markdown",
   "id": "47f5c056-dee7-43cf-ad73-1959e5dbafb2",
   "metadata": {},
   "source": [
    "### Question 10: Write a Python program to create a list of squares of all numbers from 1 to 10 using a list comprehension.\n"
   ]
  },
  {
   "cell_type": "code",
   "execution_count": 28,
   "id": "e108b7d8-ec94-483c-b378-1b79eed95086",
   "metadata": {},
   "outputs": [
    {
     "name": "stdout",
     "output_type": "stream",
     "text": [
      "[1, 4, 9, 16, 25, 36, 49, 64, 81, 100]\n"
     ]
    }
   ],
   "source": [
    "squares = [x**2 for x in range(1, 11)]\n",
    "print(squares) \n"
   ]
  },
  {
   "cell_type": "markdown",
   "id": "d2f6a5cd-fd4b-49ff-bf2c-ad74fd782c46",
   "metadata": {},
   "source": [
    "## Section 3: Advanced Topics\n"
   ]
  },
  {
   "cell_type": "markdown",
   "id": "1c4ba48a-e996-4666-9795-ced41be8e7ea",
   "metadata": {},
   "source": [
    "### Question 11: Write a Python program to calculate the factorial of a number using recursion.\n"
   ]
  },
  {
   "cell_type": "code",
   "execution_count": 27,
   "id": "71631d74-e827-485f-8296-8fca73c07e5e",
   "metadata": {},
   "outputs": [
    {
     "name": "stdout",
     "output_type": "stream",
     "text": [
      "120\n"
     ]
    }
   ],
   "source": [
    "def factorial(n):\n",
    "    if n == 0 or n == 1:\n",
    "        return 1\n",
    "    else:\n",
    "        return n * factorial(n - 1)\n",
    "\n",
    "num = 5\n",
    "print(factorial(num))  \n"
   ]
  },
  {
   "cell_type": "markdown",
   "id": "8dbdc1c6-157f-4628-81d4-b0c8c00b8fe7",
   "metadata": {},
   "source": [
    "### Question 12: What is the output of the following code?\n"
   ]
  },
  {
   "cell_type": "code",
   "execution_count": 26,
   "id": "ca7fa3be-4615-4488-9dc7-1b9ae617ddea",
   "metadata": {},
   "outputs": [
    {
     "name": "stdout",
     "output_type": "stream",
     "text": [
      "[5, 4, 3, 2, 1]\n"
     ]
    }
   ],
   "source": [
    "numbers = [1, 2, 3, 4, 5]\n",
    "print(list(reversed(numbers))) \n"
   ]
  },
  {
   "cell_type": "markdown",
   "id": "78425e0c-2bcc-4dbf-9783-cba4bec8ea8c",
   "metadata": {},
   "source": [
    "### Question 13: Write a Python program to create a generator that yields the Fibonacci sequence up to the nth term.\n",
    "|"
   ]
  },
  {
   "cell_type": "code",
   "execution_count": 25,
   "id": "8f5e6eae-8209-4dee-a3ed-361283614585",
   "metadata": {},
   "outputs": [
    {
     "name": "stdout",
     "output_type": "stream",
     "text": [
      "[0, 1, 1, 2, 3, 5, 8, 13, 21, 34]\n"
     ]
    }
   ],
   "source": [
    "def fibonacci_generator(n):\n",
    "    a, b = 0, 1\n",
    "    for _ in range(n):\n",
    "        yield a\n",
    "        a, b = b, a + b\n",
    "\n",
    "n = 10\n",
    "print(list(fibonacci_generator(n)))  \n",
    "\n"
   ]
  },
  {
   "cell_type": "markdown",
   "id": "f2ff5c1e-cb2e-4358-bf1f-6f3828f1d8b1",
   "metadata": {},
   "source": [
    "### Question 14: What is the output of the following code?\n"
   ]
  },
  {
   "cell_type": "code",
   "execution_count": 24,
   "id": "25c4c1d8-aac2-4e55-9771-8b776e0c4689",
   "metadata": {},
   "outputs": [
    {
     "name": "stdout",
     "output_type": "stream",
     "text": [
      "3.141592653589793\n"
     ]
    }
   ],
   "source": [
    "import math\n",
    "print(math.pi)  \n"
   ]
  },
  {
   "cell_type": "markdown",
   "id": "433d1c67-eea0-4197-8743-071ab7fc4617",
   "metadata": {},
   "source": [
    "### Question 15: Write a Python program to print the inverted star pyramid of height 5.\n"
   ]
  },
  {
   "cell_type": "code",
   "execution_count": 23,
   "id": "5bb14817-21e2-4ac7-8202-d1320f15605d",
   "metadata": {},
   "outputs": [
    {
     "name": "stdout",
     "output_type": "stream",
     "text": [
      "*****\n",
      "****\n",
      "***\n",
      "**\n",
      "*\n"
     ]
    }
   ],
   "source": [
    "height = 5\n",
    "for i in range(height, 0, -1):\n",
    "    print('*' * i)\n"
   ]
  },
  {
   "cell_type": "code",
   "execution_count": null,
   "id": "f860191b-d8d3-43d0-b340-32c152592be5",
   "metadata": {},
   "outputs": [],
   "source": []
  }
 ],
 "metadata": {
  "kernelspec": {
   "display_name": "Python 3 (ipykernel)",
   "language": "python",
   "name": "python3"
  },
  "language_info": {
   "codemirror_mode": {
    "name": "ipython",
    "version": 3
   },
   "file_extension": ".py",
   "mimetype": "text/x-python",
   "name": "python",
   "nbconvert_exporter": "python",
   "pygments_lexer": "ipython3",
   "version": "3.12.5"
  }
 },
 "nbformat": 4,
 "nbformat_minor": 5
}
